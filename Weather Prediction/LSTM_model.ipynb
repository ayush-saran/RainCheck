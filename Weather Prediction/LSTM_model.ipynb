{
 "cells": [
  {
   "cell_type": "code",
   "execution_count": 8,
   "metadata": {},
   "outputs": [
    {
     "data": {
      "text/html": [
       "<div>\n",
       "<style scoped>\n",
       "    .dataframe tbody tr th:only-of-type {\n",
       "        vertical-align: middle;\n",
       "    }\n",
       "\n",
       "    .dataframe tbody tr th {\n",
       "        vertical-align: top;\n",
       "    }\n",
       "\n",
       "    .dataframe thead th {\n",
       "        text-align: right;\n",
       "    }\n",
       "</style>\n",
       "<table border=\"1\" class=\"dataframe\">\n",
       "  <thead>\n",
       "    <tr style=\"text-align: right;\">\n",
       "      <th></th>\n",
       "      <th>Unnamed: 0</th>\n",
       "      <th>RainToday</th>\n",
       "      <th>RainTomorrow</th>\n",
       "      <th>Pressure</th>\n",
       "      <th>Humidity</th>\n",
       "      <th>Temp</th>\n",
       "      <th>WindVelocity</th>\n",
       "      <th>Brightness</th>\n",
       "    </tr>\n",
       "  </thead>\n",
       "  <tbody>\n",
       "    <tr>\n",
       "      <th>0</th>\n",
       "      <td>0</td>\n",
       "      <td>0.0</td>\n",
       "      <td>0</td>\n",
       "      <td>1007.40</td>\n",
       "      <td>46.5</td>\n",
       "      <td>19.35</td>\n",
       "      <td>66.0</td>\n",
       "      <td>34.148756</td>\n",
       "    </tr>\n",
       "    <tr>\n",
       "      <th>1</th>\n",
       "      <td>1</td>\n",
       "      <td>0.0</td>\n",
       "      <td>0</td>\n",
       "      <td>1009.20</td>\n",
       "      <td>34.5</td>\n",
       "      <td>20.75</td>\n",
       "      <td>57.0</td>\n",
       "      <td>34.148756</td>\n",
       "    </tr>\n",
       "    <tr>\n",
       "      <th>2</th>\n",
       "      <td>2</td>\n",
       "      <td>0.0</td>\n",
       "      <td>0</td>\n",
       "      <td>1008.15</td>\n",
       "      <td>34.0</td>\n",
       "      <td>22.10</td>\n",
       "      <td>68.5</td>\n",
       "      <td>34.148756</td>\n",
       "    </tr>\n",
       "    <tr>\n",
       "      <th>3</th>\n",
       "      <td>3</td>\n",
       "      <td>0.0</td>\n",
       "      <td>0</td>\n",
       "      <td>1015.20</td>\n",
       "      <td>30.5</td>\n",
       "      <td>22.30</td>\n",
       "      <td>34.0</td>\n",
       "      <td>34.148756</td>\n",
       "    </tr>\n",
       "    <tr>\n",
       "      <th>4</th>\n",
       "      <td>4</td>\n",
       "      <td>0.0</td>\n",
       "      <td>0</td>\n",
       "      <td>1008.40</td>\n",
       "      <td>57.5</td>\n",
       "      <td>23.75</td>\n",
       "      <td>54.5</td>\n",
       "      <td>57.186398</td>\n",
       "    </tr>\n",
       "  </tbody>\n",
       "</table>\n",
       "</div>"
      ],
      "text/plain": [
       "   Unnamed: 0  RainToday  RainTomorrow  Pressure  Humidity   Temp  \\\n",
       "0           0        0.0             0   1007.40      46.5  19.35   \n",
       "1           1        0.0             0   1009.20      34.5  20.75   \n",
       "2           2        0.0             0   1008.15      34.0  22.10   \n",
       "3           3        0.0             0   1015.20      30.5  22.30   \n",
       "4           4        0.0             0   1008.40      57.5  23.75   \n",
       "\n",
       "   WindVelocity  Brightness  \n",
       "0          66.0   34.148756  \n",
       "1          57.0   34.148756  \n",
       "2          68.5   34.148756  \n",
       "3          34.0   34.148756  \n",
       "4          54.5   57.186398  "
      ]
     },
     "execution_count": 8,
     "metadata": {},
     "output_type": "execute_result"
    }
   ],
   "source": [
    "import pandas\n",
    "import matplotlib.pyplot as plt\n",
    "dataset = pandas.read_csv('Rain_data_manipulated.csv', engine='python')\n",
    "dataset.head()"
   ]
  },
  {
   "cell_type": "code",
   "execution_count": 9,
   "metadata": {},
   "outputs": [],
   "source": [
    "from keras.models import Sequential\n",
    "from keras.layers import Dense\n",
    "from keras.layers import LSTM\n",
    "import numpy as np"
   ]
  },
  {
   "cell_type": "code",
   "execution_count": 10,
   "metadata": {},
   "outputs": [],
   "source": [
    "Labels=np.array(dataset['RainTomorrow'])"
   ]
  },
  {
   "cell_type": "code",
   "execution_count": 11,
   "metadata": {},
   "outputs": [],
   "source": [
    "Samples=np.array(dataset[['RainToday','Pressure','Humidity','Temp','WindVelocity','Brightness']])"
   ]
  },
  {
   "cell_type": "code",
   "execution_count": 16,
   "metadata": {},
   "outputs": [],
   "source": [
    "from sklearn.preprocessing import MinMaxScaler\n",
    "scaler = MinMaxScaler(copy=False)\n",
    "Samples_normalized=scaler.fit(Samples)\n",
    "Samples_normalized=scaler.transform(Samples)"
   ]
  },
  {
   "cell_type": "code",
   "execution_count": 17,
   "metadata": {},
   "outputs": [
    {
     "data": {
      "text/plain": [
       "(142193, 6)"
      ]
     },
     "execution_count": 17,
     "metadata": {},
     "output_type": "execute_result"
    }
   ],
   "source": [
    "Samples_normalized.shape"
   ]
  },
  {
   "cell_type": "code",
   "execution_count": 18,
   "metadata": {},
   "outputs": [],
   "source": [
    "Samples_normalized=Samples_normalized.reshape(Samples.shape[0],1,Samples.shape[1])"
   ]
  },
  {
   "cell_type": "code",
   "execution_count": 19,
   "metadata": {},
   "outputs": [],
   "source": [
    "import numpy as np\n",
    "from keras.layers import LSTM\n",
    "from keras.models import Sequential, Model\n",
    "from keras.layers import Input, Dense, Flatten, Dropout, Activation, Lambda, Permute, Reshape\n",
    "import json\n",
    "import scipy\n",
    "from keras.callbacks import Callback, ModelCheckpoint\n",
    "from sklearn.model_selection import train_test_split\n",
    "from sklearn.metrics import cohen_kappa_score, accuracy_score\n",
    "from sklearn.metrics import confusion_matrix\n",
    "import tensorflow as tf"
   ]
  },
  {
   "cell_type": "code",
   "execution_count": 20,
   "metadata": {},
   "outputs": [],
   "source": [
    "def weather_predictor(X_train,Y_train,hparam):\n",
    "    \n",
    "    model = Sequential()\n",
    "\n",
    "    input_shape=(X_train.shape[1],X_train.shape[2])\n",
    "\n",
    "    model.add(LSTM(units=30,return_sequences=True,input_shape=input_shape))\n",
    "    model.add(Dropout(0.2))\n",
    "\n",
    "    model.add(LSTM(units=30))\n",
    "    model.add(Dropout(0.2))\n",
    "    model.add(Dense(units=20))\n",
    "    model.add(Dense(units=10))\n",
    "    model.add(Dense(units=4))\n",
    "    model.add(Dense(units=1, activation='sigmoid'))\n",
    "    model.compile(optimizer='adam', loss=\"binary_crossentropy\",metrics=['accuracy'])\n",
    "    trainer=model.fit(X_train, Y_train, epochs=hparam.epoch,batch_size=hparam.batch,validation_split=hparam.eval_split)\n",
    "    \n",
    "    plt.plot(trainer.history['accuracy'])\n",
    "    plt.plot(trainer.history['val_accuracy'])\n",
    "    plt.title('Model accuracy')\n",
    "    plt.ylabel('Accuracy')\n",
    "    plt.xlabel('Epoch')\n",
    "    plt.legend(['Train', 'val'], loc='upper left')\n",
    "    plt.show()\n",
    "    plt.plot(trainer.history['loss'])\n",
    "    plt.plot(trainer.history['val_loss'])\n",
    "    plt.title('Model loss')\n",
    "    plt.ylabel('Loss')\n",
    "    plt.xlabel('Epoch')\n",
    "    plt.legend(['Train', 'val'], loc='upper left')\n",
    "    plt.show()\n",
    "\n",
    "    return model"
   ]
  },
  {
   "cell_type": "code",
   "execution_count": 21,
   "metadata": {},
   "outputs": [],
   "source": [
    "X_train,X_test,Y_train,Y_test=train_test_split(Samples_normalized,Labels,test_size=0.2,random_state=42)"
   ]
  },
  {
   "cell_type": "code",
   "execution_count": 22,
   "metadata": {},
   "outputs": [],
   "source": [
    "class hparam_config():\n",
    "      def __init__(self, epoch,batch,eval_split):\n",
    "        self.epoch=epoch\n",
    "        self.batch=batch\n",
    "        self.eval_split=eval_split\n",
    "\n",
    "param_list=hparam_config(epoch=10,batch=100,eval_split=0.2)"
   ]
  },
  {
   "cell_type": "code",
   "execution_count": 23,
   "metadata": {},
   "outputs": [
    {
     "name": "stdout",
     "output_type": "stream",
     "text": [
      "Train on 91003 samples, validate on 22751 samples\n",
      "Epoch 1/10\n",
      "91003/91003 [==============================] - 16s 180us/step - loss: 0.4866 - accuracy: 0.7945 - val_loss: 0.4705 - val_accuracy: 0.8094\n",
      "Epoch 2/10\n",
      "91003/91003 [==============================] - 10s 112us/step - loss: 0.4731 - accuracy: 0.8033 - val_loss: 0.4684 - val_accuracy: 0.8100\n",
      "Epoch 3/10\n",
      "91003/91003 [==============================] - 12s 128us/step - loss: 0.4695 - accuracy: 0.8062 - val_loss: 0.4664 - val_accuracy: 0.8105\n",
      "Epoch 4/10\n",
      "91003/91003 [==============================] - 13s 140us/step - loss: 0.4686 - accuracy: 0.8064 - val_loss: 0.4635 - val_accuracy: 0.8110\n",
      "Epoch 5/10\n",
      "91003/91003 [==============================] - 13s 143us/step - loss: 0.4685 - accuracy: 0.8057 - val_loss: 0.4634 - val_accuracy: 0.8105\n",
      "Epoch 6/10\n",
      "91003/91003 [==============================] - 14s 149us/step - loss: 0.4677 - accuracy: 0.8069 - val_loss: 0.4638 - val_accuracy: 0.8101\n",
      "Epoch 7/10\n",
      "91003/91003 [==============================] - 11s 123us/step - loss: 0.4671 - accuracy: 0.8073 - val_loss: 0.4639 - val_accuracy: 0.8109\n",
      "Epoch 8/10\n",
      "91003/91003 [==============================] - 12s 128us/step - loss: 0.4668 - accuracy: 0.8066 - val_loss: 0.4636 - val_accuracy: 0.8112\n",
      "Epoch 9/10\n",
      "91003/91003 [==============================] - 12s 127us/step - loss: 0.4661 - accuracy: 0.8070 - val_loss: 0.4618 - val_accuracy: 0.8117\n",
      "Epoch 10/10\n",
      "91003/91003 [==============================] - 11s 122us/step - loss: 0.4658 - accuracy: 0.8076 - val_loss: 0.4644 - val_accuracy: 0.8094\n"
     ]
    },
    {
     "data": {
      "image/png": "[encoded data removed]",
      "text/plain": [
       "<Figure size 432x288 with 1 Axes>"
      ]
     },
     "metadata": {
      "needs_background": "light"
     },
     "output_type": "display_data"
    },
    {
     "data": {
      "image/png": "[encoded data removed]",
      "text/plain": [
       "<Figure size 432x288 with 1 Axes>"
      ]
     },
     "metadata": {
      "needs_background": "light"
     },
     "output_type": "display_data"
    }
   ],
   "source": [
    "wraps=weather_predictor(X_train,Y_train,param_list)"
   ]
  },
  {
   "cell_type": "code",
   "execution_count": 27,
   "metadata": {},
   "outputs": [],
   "source": [
    "Y_pred=wraps.predict_proba(X_test)"
   ]
  },
  {
   "cell_type": "code",
   "execution_count": 28,
   "metadata": {},
   "outputs": [],
   "source": [
    "from sklearn.metrics import roc_curve\n",
    "from sklearn.metrics import roc_auc_score"
   ]
  },
  {
   "cell_type": "code",
   "execution_count": 30,
   "metadata": {},
   "outputs": [
    {
     "name": "stdout",
     "output_type": "stream",
     "text": [
      "0.6973190341388904\n"
     ]
    },
    {
     "data": {
      "image/png": "[encoded data removed]",
      "text/plain": [
       "<Figure size 432x288 with 1 Axes>"
      ]
     },
     "metadata": {
      "needs_background": "light"
     },
     "output_type": "display_data"
    }
   ],
   "source": [
    "lr_auc = roc_auc_score(Y_test,Y_pred)\n",
    "print(lr_auc)\n",
    "lr_fpr, lr_tpr, _ = roc_curve(Y_test, Y_pred)\n",
    "plt.plot(lr_fpr, lr_tpr, marker='.', label='Wraps')\n",
    "plt.xlabel('False Positive Rate')\n",
    "plt.ylabel('True Positive Rate')\n",
    "plt.show()"
   ]
  },
  {
   "cell_type": "code",
   "execution_count": 31,
   "metadata": {},
   "outputs": [
    {
     "data": {
      "text/plain": [
       "0.8067794226238616"
      ]
     },
     "execution_count": 31,
     "metadata": {},
     "output_type": "execute_result"
    }
   ],
   "source": [
    "from sklearn.metrics import accuracy_score\n",
    "Y_pred=Y_pred>0.5\n",
    "accuracy_score(Y_test,Y_pred)"
   ]
  },
  {
   "cell_type": "code",
   "execution_count": 32,
   "metadata": {},
   "outputs": [
    {
     "data": {
      "text/plain": [
       "<matplotlib.axes._subplots.AxesSubplot at 0x245c206aec8>"
      ]
     },
     "execution_count": 32,
     "metadata": {},
     "output_type": "execute_result"
    },
    {
     "data": {
      "image/png": "[encoded data removed]",
      "text/plain": [
       "<Figure size 864x864 with 2 Axes>"
      ]
     },
     "metadata": {
      "needs_background": "light"
     },
     "output_type": "display_data"
    }
   ],
   "source": [
    "import scikitplot as skplt\n",
    "skplt.metrics.plot_confusion_matrix(\n",
    "    Y_test, \n",
    "    Y_pred,\n",
    "    figsize=(12,12))"
   ]
  },
  {
   "cell_type": "code",
   "execution_count": 33,
   "metadata": {},
   "outputs": [],
   "source": [
    "from keras.models import save_model\n",
    "wraps.save('Wraps_LSTM_predictor.h5')  #*****************Run this cell only for improved models."
   ]
  }
 ],
 "metadata": {
  "kernelspec": {
   "display_name": "Python 3",
   "language": "python",
   "name": "python3"
  },
  "language_info": {
   "codemirror_mode": {
    "name": "ipython",
    "version": 3
   },
   "file_extension": ".py",
   "mimetype": "text/x-python",
   "name": "python",
   "nbconvert_exporter": "python",
   "pygments_lexer": "ipython3",
   "version": "3.7.6"
  }
 },
 "nbformat": 4,
 "nbformat_minor": 4
}
