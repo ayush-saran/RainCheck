{
  "nbformat": 4,
  "nbformat_minor": 0,
  "metadata": {
    "colab": {
      "name": "bing_maps.ipynb",
      "provenance": [],
      "authorship_tag": "ABX9TyMhg3rxbMxm633TUahGNAxz",
      "include_colab_link": true
    },
    "kernelspec": {
      "name": "python3",
      "display_name": "Python 3"
    }
  },
  "cells": [
    {
      "cell_type": "markdown",
      "metadata": {
        "id": "view-in-github",
        "colab_type": "text"
      },
      "source": [
        "<a href=\"https://colab.research.google.com/github/Pravanop/WRAPS/blob/master/bing_maps.ipynb\" target=\"_parent\"><img src=\"https://colab.research.google.com/assets/colab-badge.svg\" alt=\"Open In Colab\"/></a>"
      ]
    },
    {
      "cell_type": "code",
      "metadata": {
        "id": "ssxkBJOM8lA1"
      },
      "source": [
        "?origins={lat0,long0;lat1,lon1;latM,lonM}&destinations={lat0,lon0;lat1,lon1;latN,longN}&travelMode={travelMode}&startTime={startTime}&timeUnit={timeUnit}&key={BingMapsAPIKey}"
      ],
      "execution_count": null,
      "outputs": []
    },
    {
      "cell_type": "code",
      "metadata": {
        "id": "TYX14oIG8qOm"
      },
      "source": [
        "import requests"
      ],
      "execution_count": null,
      "outputs": []
    },
    {
      "cell_type": "code",
      "metadata": {
        "id": "Fn54lRky8s9o"
      },
      "source": [
        "headers = {'Content-Length': 'insertLengthOfHTTPBody',\n",
        "           'Content-Type': 'application/json'}\n",
        "payload = {\n",
        "    \"origins\": [{\n",
        "        \"latitude\": 60.167131,\n",
        "        \"longitude\": 24.945703\n",
        "    },\n",
        "    {\n",
        "        \"latitude\": 60.167278,\n",
        "        \"longitude\": 24.951115\n",
        "    }],\n",
        "    \"destinations\": [{\n",
        "        \"latitude\": 60.164202,\n",
        "        \"longitude\": 24.946092\n",
        "    }, \n",
        "    {\n",
        "        \"latitude\": 60.164824,\n",
        "        \"longitude\": 24.951460\n",
        "    }],\n",
        "    \"travelMode\": 'Driving',\n",
        "}\n",
        "api = 'ArAvNNUEiRVi3rGH7kSCrbdJRajzAvXogf3tquSfpc6eTppZWaIiSDnjViSC2cUS'\n",
        "url = 'https://dev.virtualearth.net/REST/v1/Routes/DistanceMatrix?key=' + api\n",
        "r = requests.post(url=url, json=payload)"
      ],
      "execution_count": null,
      "outputs": []
    },
    {
      "cell_type": "code",
      "metadata": {
        "colab": {
          "base_uri": "https://localhost:8080/"
        },
        "id": "-abYeFDP-T1H",
        "outputId": "2ee4eff1-2fe7-41f0-9683-56807c5ebf3f"
      },
      "source": [
        ""
      ],
      "execution_count": null,
      "outputs": [
        {
          "output_type": "stream",
          "text": [
            "{\"authenticationResultCode\":\"ValidCredentials\",\"brandLogoUri\":\"http:\\/\\/dev.virtualearth.net\\/Branding\\/logo_powered_by.png\",\"copyright\":\"Copyright © 2021 Microsoft and its suppliers. All rights reserved. This API cannot be accessed and the content and any results may not be used, reproduced or transmitted in any manner without express written permission from Microsoft Corporation.\",\"resourceSets\":[{\"estimatedTotal\":1,\"resources\":[{\"__type\":\"DistanceMatrix:http:\\/\\/schemas.microsoft.com\\/search\\/local\\/ws\\/rest\\/v1\",\"destinations\":[{\"latitude\":60.164202,\"longitude\":24.946092},{\"latitude\":60.164824,\"longitude\":24.95146}],\"origins\":[{\"latitude\":60.167131,\"longitude\":24.945703},{\"latitude\":60.167278,\"longitude\":24.951115}],\"results\":[{\"destinationIndex\":0,\"originIndex\":0,\"totalWalkDuration\":0,\"travelDistance\":0.327,\"travelDuration\":0.8667},{\"destinationIndex\":1,\"originIndex\":0,\"totalWalkDuration\":0,\"travelDistance\":0.575,\"travelDuration\":1.7167},{\"destinationIndex\":0,\"originIndex\":1,\"totalWalkDuration\":0,\"travelDistance\":0.625,\"travelDuration\":2.5167},{\"destinationIndex\":1,\"originIndex\":1,\"totalWalkDuration\":0,\"travelDistance\":0.276,\"travelDuration\":1.2667}]}]}],\"statusCode\":200,\"statusDescription\":\"OK\",\"traceId\":\"24d609e1b56147d2b5666472a7c7dc16|DU00000D80|0.0.0.0|DU00000483\"}\n"
          ],
          "name": "stdout"
        }
      ]
    },
    {
      "cell_type": "code",
      "metadata": {
        "id": "9Z-McXNe-fCw"
      },
      "source": [
        "r_json = r.json()"
      ],
      "execution_count": null,
      "outputs": []
    },
    {
      "cell_type": "code",
      "metadata": {
        "colab": {
          "base_uri": "https://localhost:8080/"
        },
        "id": "8unNiCTeAF4H",
        "outputId": "9f5379e1-f0c8-4f08-a467-cece41a6063a"
      },
      "source": [
        "print(r_json)  #resources,results"
      ],
      "execution_count": null,
      "outputs": [
        {
          "output_type": "stream",
          "text": [
            "{'authenticationResultCode': 'ValidCredentials', 'brandLogoUri': 'http://dev.virtualearth.net/Branding/logo_powered_by.png', 'copyright': 'Copyright © 2021 Microsoft and its suppliers. All rights reserved. This API cannot be accessed and the content and any results may not be used, reproduced or transmitted in any manner without express written permission from Microsoft Corporation.', 'resourceSets': [{'estimatedTotal': 1, 'resources': [{'__type': 'DistanceMatrix:http://schemas.microsoft.com/search/local/ws/rest/v1', 'destinations': [{'latitude': 60.164202, 'longitude': 24.946092}, {'latitude': 60.164824, 'longitude': 24.95146}], 'origins': [{'latitude': 60.167131, 'longitude': 24.945703}, {'latitude': 60.167278, 'longitude': 24.951115}], 'results': [{'destinationIndex': 0, 'originIndex': 0, 'totalWalkDuration': 0, 'travelDistance': 0.327, 'travelDuration': 0.8667}, {'destinationIndex': 1, 'originIndex': 0, 'totalWalkDuration': 0, 'travelDistance': 0.575, 'travelDuration': 1.7167}, {'destinationIndex': 0, 'originIndex': 1, 'totalWalkDuration': 0, 'travelDistance': 0.625, 'travelDuration': 2.5167}, {'destinationIndex': 1, 'originIndex': 1, 'totalWalkDuration': 0, 'travelDistance': 0.276, 'travelDuration': 1.2667}]}]}], 'statusCode': 200, 'statusDescription': 'OK', 'traceId': '24d609e1b56147d2b5666472a7c7dc16|DU00000D80|0.0.0.0|DU00000483'}\n"
          ],
          "name": "stdout"
        }
      ]
    },
    {
      "cell_type": "code",
      "metadata": {
        "id": "0HZFKNcHGBjD"
      },
      "source": [
        "dict_r = dict(r_json)"
      ],
      "execution_count": null,
      "outputs": []
    },
    {
      "cell_type": "code",
      "metadata": {
        "colab": {
          "base_uri": "https://localhost:8080/"
        },
        "id": "-BXZddKoGz4l",
        "outputId": "9b74d0a4-571a-4a4b-f142-fa405e000cde"
      },
      "source": [
        "print(dict_r)"
      ],
      "execution_count": null,
      "outputs": [
        {
          "output_type": "stream",
          "text": [
            "{'authenticationResultCode': 'ValidCredentials', 'brandLogoUri': 'http://dev.virtualearth.net/Branding/logo_powered_by.png', 'copyright': 'Copyright © 2021 Microsoft and its suppliers. All rights reserved. This API cannot be accessed and the content and any results may not be used, reproduced or transmitted in any manner without express written permission from Microsoft Corporation.', 'resourceSets': [{'estimatedTotal': 1, 'resources': [{'__type': 'DistanceMatrix:http://schemas.microsoft.com/search/local/ws/rest/v1', 'destinations': [{'latitude': 60.164202, 'longitude': 24.946092}, {'latitude': 60.164824, 'longitude': 24.95146}], 'origins': [{'latitude': 60.167131, 'longitude': 24.945703}, {'latitude': 60.167278, 'longitude': 24.951115}], 'results': [{'destinationIndex': 0, 'originIndex': 0, 'totalWalkDuration': 0, 'travelDistance': 0.327, 'travelDuration': 0.8667}, {'destinationIndex': 1, 'originIndex': 0, 'totalWalkDuration': 0, 'travelDistance': 0.575, 'travelDuration': 1.7167}, {'destinationIndex': 0, 'originIndex': 1, 'totalWalkDuration': 0, 'travelDistance': 0.625, 'travelDuration': 2.5167}, {'destinationIndex': 1, 'originIndex': 1, 'totalWalkDuration': 0, 'travelDistance': 0.276, 'travelDuration': 1.2667}]}]}], 'statusCode': 200, 'statusDescription': 'OK', 'traceId': '24d609e1b56147d2b5666472a7c7dc16|DU00000D80|0.0.0.0|DU00000483'}\n"
          ],
          "name": "stdout"
        }
      ]
    },
    {
      "cell_type": "code",
      "metadata": {
        "id": "YLV7FOSFIVf4"
      },
      "source": [
        "time = dict_r['resourceSets'][0]['resources'][0]['results'][0]['travelDuration'] #the last index is iterable\n",
        "distance = dict_r['resourceSets'][0]['resources'][0]['results'][0]['travelDistance']"
      ],
      "execution_count": null,
      "outputs": []
    },
    {
      "cell_type": "code",
      "metadata": {
        "id": "hflE1npiIc3n"
      },
      "source": [
        ""
      ],
      "execution_count": null,
      "outputs": []
    }
  ]
}